{
 "cells": [
  {
   "cell_type": "code",
   "execution_count": 1,
   "id": "68ac7b67",
   "metadata": {},
   "outputs": [],
   "source": [
    "# pip install matplotlib\n",
    "# pip install pandas\n",
    "# pip install numpy\n",
    "# pip install openpyxl\n",
    "# pip install ipywidgets"
   ]
  },
  {
   "cell_type": "code",
   "execution_count": 1,
   "id": "a9a5c578",
   "metadata": {
    "scrolled": true
   },
   "outputs": [],
   "source": [
    "import matplotlib.pyplot as plt\n",
    "import pandas as pd\n",
    "import numpy as np\n",
    "\n",
    "\n",
    "Receiving = pd.read_excel('assets/Receiving.xlsx', sheet_name = 'Receiving_Data')\n",
    "Receiving2 = Receiving[Receiving['Receiving Yards'] > 750]\n",
    "Receiving2 = Receiving2[Receiving2.groupby('Name')['Name'].transform('size')>8]\n",
    "Receivers = [Receiving2['Name'].unique().tolist()]\n"
   ]
  },
  {
   "cell_type": "code",
   "execution_count": 2,
   "id": "4b9dbaf9",
   "metadata": {
    "scrolled": true
   },
   "outputs": [],
   "source": [
    "#Receiving2"
   ]
  },
  {
   "cell_type": "code",
   "execution_count": 3,
   "id": "5edd9fa5",
   "metadata": {
    "scrolled": true
   },
   "outputs": [
    {
     "name": "stdout",
     "output_type": "stream",
     "text": [
      "               Player\n",
      "6      Boldin, Anquan\n",
      "21       Carter, Cris\n",
      "7       Ellard, Henry\n",
      "3   Fitzgerald, Larry\n",
      "10     Gates, Antonio\n",
      "4      Gonzalez, Tony\n",
      "9    Harrison, Marvin\n",
      "16     Johnson, Andre\n",
      "17    Johnson, Calvin\n",
      "0   Johnson, Keyshawn\n",
      "15     Largent, Steve\n",
      "8   Marshall, Brandon\n",
      "12     Mason, Derrick\n",
      "5        Maynard, Don\n",
      "19     Owens, Terrell\n",
      "11        Reed, Andre\n",
      "20        Rice, Jerry\n",
      "18    Sharpe, Shannon\n",
      "1        Smith, Steve\n",
      "2         Ward, Hines\n",
      "14      Wayne, Reggie\n",
      "13      Witten, Jason\n"
     ]
    }
   ],
   "source": [
    "df = pd.DataFrame(Receivers)\n",
    "vals = df.T\n",
    "vals.columns =['Player']\n",
    "vals\n",
    "sort = vals.sort_values(by=['Player'])\n",
    "\n",
    "#vals.sort_values(by=['Player'])\n",
    "print(sort)"
   ]
  },
  {
   "cell_type": "code",
   "execution_count": 4,
   "id": "ab0c4df5",
   "metadata": {},
   "outputs": [
    {
     "name": "stdout",
     "output_type": "stream",
     "text": [
      "           Player\n",
      "   Boldin, Anquan\n",
      "     Carter, Cris\n",
      "    Ellard, Henry\n",
      "Fitzgerald, Larry\n",
      "   Gates, Antonio\n",
      "   Gonzalez, Tony\n",
      " Harrison, Marvin\n",
      "   Johnson, Andre\n",
      "  Johnson, Calvin\n",
      "Johnson, Keyshawn\n",
      "   Largent, Steve\n",
      "Marshall, Brandon\n",
      "   Mason, Derrick\n",
      "     Maynard, Don\n",
      "   Owens, Terrell\n",
      "      Reed, Andre\n",
      "      Rice, Jerry\n",
      "  Sharpe, Shannon\n",
      "     Smith, Steve\n",
      "      Ward, Hines\n",
      "    Wayne, Reggie\n",
      "    Witten, Jason\n",
      "What Receiver are you wanting to look up:Witten, Jason\n"
     ]
    }
   ],
   "source": [
    "print(sort.to_string(index=False))\n",
    "\n",
    "Look = input(\"What Receiver are you wanting to look up:\")"
   ]
  },
  {
   "cell_type": "code",
   "execution_count": 5,
   "id": "9e987495",
   "metadata": {
    "scrolled": true
   },
   "outputs": [
    {
     "name": "stdout",
     "output_type": "stream",
     "text": [
      "                 Player Id           Name Position  Year            Team  \\\n",
      "11769  jasonwitten/2505629  Witten, Jason       TE  2016  Dallas Cowboys   \n",
      "11770  jasonwitten/2505629  Witten, Jason       TE  2015  Dallas Cowboys   \n",
      "11771  jasonwitten/2505629  Witten, Jason       TE  2014  Dallas Cowboys   \n",
      "11772  jasonwitten/2505629  Witten, Jason       TE  2013  Dallas Cowboys   \n",
      "11773  jasonwitten/2505629  Witten, Jason       TE  2012  Dallas Cowboys   \n",
      "11774  jasonwitten/2505629  Witten, Jason       TE  2011  Dallas Cowboys   \n",
      "11775  jasonwitten/2505629  Witten, Jason       TE  2010  Dallas Cowboys   \n",
      "11776  jasonwitten/2505629  Witten, Jason       TE  2009  Dallas Cowboys   \n",
      "11777  jasonwitten/2505629  Witten, Jason       TE  2008  Dallas Cowboys   \n",
      "11778  jasonwitten/2505629  Witten, Jason       TE  2007  Dallas Cowboys   \n",
      "11779  jasonwitten/2505629  Witten, Jason       TE  2006  Dallas Cowboys   \n",
      "11780  jasonwitten/2505629  Witten, Jason       TE  2005  Dallas Cowboys   \n",
      "11781  jasonwitten/2505629  Witten, Jason       TE  2004  Dallas Cowboys   \n",
      "11782  jasonwitten/2505629  Witten, Jason       TE  2003  Dallas Cowboys   \n",
      "\n",
      "       Games Played  Receptions  Receiving Yards  Yards Per Reception  \\\n",
      "11769            16          69              673                  9.8   \n",
      "11770            16          77              713                  9.3   \n",
      "11771            16          64              703                 11.0   \n",
      "11772            16          73              851                 11.7   \n",
      "11773            16         110             1039                  9.4   \n",
      "11774            16          79              942                 11.9   \n",
      "11775            16          94             1002                 10.7   \n",
      "11776            16          94             1030                 11.0   \n",
      "11777            16          81              952                 11.8   \n",
      "11778            16          96             1145                 11.9   \n",
      "11779            16          64              754                 11.8   \n",
      "11780            16          66              757                 11.5   \n",
      "11781            16          87              980                 11.3   \n",
      "11782            15          35              347                  9.9   \n",
      "\n",
      "       Yards Per Game Longest Reception  Receiving TDs  \\\n",
      "11769            42.1                35              3   \n",
      "11770            44.6                35              3   \n",
      "11771            43.9                34              5   \n",
      "11772            53.2                34              8   \n",
      "11773            64.9                36              3   \n",
      "11774            58.9                64              5   \n",
      "11775            62.6                33              9   \n",
      "11776            64.4                69              2   \n",
      "11777            59.5                42              4   \n",
      "11778            71.6                53              7   \n",
      "11779            47.1                42              1   \n",
      "11780            47.3                34              6   \n",
      "11781            61.2               42T              6   \n",
      "11782            23.1               36T              1   \n",
      "\n",
      "       Receptions Longer than 20 Yards  Receptions Longer than 40 Yards  \\\n",
      "11769                                7                                0   \n",
      "11770                                4                                0   \n",
      "11771                                7                                0   \n",
      "11772                               13                                0   \n",
      "11773                                8                                0   \n",
      "11774                               15                                2   \n",
      "11775                               13                                0   \n",
      "11776                               11                                2   \n",
      "11777                               14                                1   \n",
      "11778                               12                                2   \n",
      "11779                               10                                1   \n",
      "11780                                7                                0   \n",
      "11781                               13                                1   \n",
      "11782                                1                                0   \n",
      "\n",
      "       First Down Receptions  Fumbles  \n",
      "11769                     33        1  \n",
      "11770                     36        1  \n",
      "11771                     48        0  \n",
      "11772                     44        0  \n",
      "11773                     56        0  \n",
      "11774                     47        1  \n",
      "11775                     49        1  \n",
      "11776                     48        0  \n",
      "11777                     50        0  \n",
      "11778                     56        1  \n",
      "11779                     37        0  \n",
      "11780                     40        0  \n",
      "11781                     44        2  \n",
      "11782                     18        0  \n"
     ]
    }
   ],
   "source": [
    "Receiver = Receiving[Receiving['Name'].str.contains(Look)]\n",
    "print(Receiver)"
   ]
  },
  {
   "cell_type": "code",
   "execution_count": 6,
   "id": "e2df3f3e",
   "metadata": {},
   "outputs": [],
   "source": [
    "Played = Receiver['Games Played']\n",
    "Over40 = Receiver['Receptions Longer than 40 Yards']\n",
    "Year = Receiver['Year']\n",
    "First = Receiver['First Down Receptions']\n",
    "YardsYear = Receiver['Receiving Yards']\n",
    "GamesPlayed = Receiver['Games Played']\n",
    "Rec = Receiver['Receptions']\n",
    "Yr = Receiver['Year']\n",
    "Lost = Receiver['Fumbles']"
   ]
  },
  {
   "cell_type": "code",
   "execution_count": 7,
   "id": "99ad54db",
   "metadata": {},
   "outputs": [
    {
     "data": {
      "image/png": "[encoded data removed]",
      "text/plain": [
       "<Figure size 1080x432 with 1 Axes>"
      ]
     },
     "metadata": {
      "needs_background": "light"
     },
     "output_type": "display_data"
    }
   ],
   "source": [
    "plt.figure(figsize = (15, 6))\n",
    "plt.bar(Yr, Over40)\n",
    "plt.xlabel(\"Catches over 40 Yards\")\n",
    "plt.show()\n"
   ]
  },
  {
   "cell_type": "code",
   "execution_count": 8,
   "id": "7089fff8",
   "metadata": {},
   "outputs": [
    {
     "data": {
      "image/png": "[encoded data removed]",
      "text/plain": [
       "<Figure size 1080x432 with 1 Axes>"
      ]
     },
     "metadata": {
      "needs_background": "light"
     },
     "output_type": "display_data"
    }
   ],
   "source": [
    "plt.figure(figsize = (15, 6))\n",
    "plt.plot(Yr, YardsYear)\n",
    "plt.xlabel(\"Receiving Yards per Year\")\n",
    "plt.show()"
   ]
  },
  {
   "cell_type": "code",
   "execution_count": 9,
   "id": "67a3f776",
   "metadata": {
    "scrolled": true
   },
   "outputs": [
    {
     "data": {
      "image/png": "[encoded data removed]",
      "text/plain": [
       "<Figure size 1080x432 with 1 Axes>"
      ]
     },
     "metadata": {
      "needs_background": "light"
     },
     "output_type": "display_data"
    }
   ],
   "source": [
    "plt.figure(figsize = (15, 6))\n",
    "plt.bar(Yr, Lost)\n",
    "plt.xlabel(\"Fumbles lost per Year\")\n",
    "plt.show()"
   ]
  },
  {
   "cell_type": "code",
   "execution_count": null,
   "id": "b6bf3c97",
   "metadata": {},
   "outputs": [],
   "source": []
  }
 ],
 "metadata": {
  "kernelspec": {
   "display_name": "Python 3 (ipykernel)",
   "language": "python",
   "name": "python3"
  },
  "language_info": {
   "codemirror_mode": {
    "name": "ipython",
    "version": 3
   },
   "file_extension": ".py",
   "mimetype": "text/x-python",
   "name": "python",
   "nbconvert_exporter": "python",
   "pygments_lexer": "ipython3",
   "version": "3.9.12"
  }
 },
 "nbformat": 4,
 "nbformat_minor": 5
}
