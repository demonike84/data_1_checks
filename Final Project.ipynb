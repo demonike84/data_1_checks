{
 "cells": [
  {
   "cell_type": "code",
   "execution_count": null,
   "id": "68ac7b67",
   "metadata": {},
   "outputs": [],
   "source": [
    "# pip install matplotlib\n",
    "# pip install pandas\n",
    "# pip install numpy\n",
    "# pip install openpyxl"
   ]
  },
  {
   "cell_type": "code",
   "execution_count": null,
   "id": "a9a5c578",
   "metadata": {
    "scrolled": true
   },
   "outputs": [],
   "source": [
    "import matplotlib.pyplot as plt\n",
    "import pandas as pd\n",
    "Receiving = pd.read_excel('assets/Receiving.xlsx', sheet_name = 'Receiving_Data')\n",
    "Receiving = Receiving[Receiving['Games Played'] !=0]\n",
    "Receivers = (Receiving['Name'].unique())\n",
    "\n",
    "print(Receivers)\n",
    "\n",
    "Look = input (\"What Receiver are you wanting to look up:\")"
   ]
  },
  {
   "cell_type": "code",
   "execution_count": null,
   "id": "9e987495",
   "metadata": {
    "scrolled": false
   },
   "outputs": [],
   "source": [
    "Receiver = Receiving[Receiving['Name'].str.contains(Look)]\n",
    "\n",
    "print(Receiver)"
   ]
  },
  {
   "cell_type": "code",
   "execution_count": null,
   "id": "cd992015",
   "metadata": {},
   "outputs": [],
   "source": [
    "type(Receiver)"
   ]
  },
  {
   "cell_type": "code",
   "execution_count": null,
   "id": "492d7130",
   "metadata": {},
   "outputs": [],
   "source": [
    "Receiver.dtypes"
   ]
  },
  {
   "cell_type": "code",
   "execution_count": null,
   "id": "e2df3f3e",
   "metadata": {},
   "outputs": [],
   "source": [
    "Played = Receiver['Games Played']\n",
    "Over40 = Receiver['Receptions Longer than 40 Yards']\n",
    "Year = Receiver['Year']\n",
    "First = Receiver['First Down Receptions']\n",
    "YardsYear = Receiver['Receiving Yards']\n",
    "GamesPlayed = Receiver['Games Played']\n",
    "Rec = Receiver['Receptions']\n",
    "Yr = Receiver['Year']\n",
    "Lost = Receiver['Fumbles']"
   ]
  },
  {
   "cell_type": "code",
   "execution_count": null,
   "id": "82b9263a",
   "metadata": {},
   "outputs": [],
   "source": [
    "type(Rec)"
   ]
  },
  {
   "cell_type": "code",
   "execution_count": null,
   "id": "99ad54db",
   "metadata": {},
   "outputs": [],
   "source": [
    "plt.figure(figsize = (15, 6))\n",
    "plt.bar(Yr, Over40)\n",
    "plt.show()\n"
   ]
  },
  {
   "cell_type": "code",
   "execution_count": null,
   "id": "7089fff8",
   "metadata": {},
   "outputs": [],
   "source": [
    "plt.figure(figsize = (15, 6))\n",
    "plt.plot(Yr, YardsYear)\n",
    "plt.show()"
   ]
  },
  {
   "cell_type": "code",
   "execution_count": null,
   "id": "67a3f776",
   "metadata": {},
   "outputs": [],
   "source": [
    "plt.figure(figsize = (15, 6))\n",
    "plt.plot(Yr, Lost)\n",
    "plt.show()"
   ]
  },
  {
   "cell_type": "code",
   "execution_count": null,
   "id": "e09da037",
   "metadata": {},
   "outputs": [],
   "source": []
  },
  {
   "cell_type": "code",
   "execution_count": null,
   "id": "9d4d484c",
   "metadata": {},
   "outputs": [],
   "source": []
  }
 ],
 "metadata": {
  "kernelspec": {
   "display_name": "Python 3.11.0 64-bit",
   "language": "python",
   "name": "python3"
  },
  "language_info": {
   "codemirror_mode": {
    "name": "ipython",
    "version": 3
   },
   "file_extension": ".py",
   "mimetype": "text/x-python",
   "name": "python",
   "nbconvert_exporter": "python",
   "pygments_lexer": "ipython3",
   "version": "3.11.0"
  },
  "vscode": {
   "interpreter": {
    "hash": "5238573367df39f7286bb46f9ff5f08f63a01a80960060ce41e3c79b190280fa"
   }
  }
 },
 "nbformat": 4,
 "nbformat_minor": 5
}
