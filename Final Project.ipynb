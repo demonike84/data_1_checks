{
 "cells": [
  {
   "cell_type": "code",
   "execution_count": 1,
   "id": "68ac7b67",
   "metadata": {},
   "outputs": [],
   "source": [
    "# pip install matplotlib\n",
    "# pip install pandas\n",
    "# pip install numpy\n",
    "# pip install openpyxl"
   ]
  },
  {
   "cell_type": "code",
   "execution_count": 2,
   "id": "a9a5c578",
   "metadata": {
    "scrolled": false
   },
   "outputs": [
    {
     "name": "stdout",
     "output_type": "stream",
     "text": [
      "['Evans, Fred' 'Fowler, Bobby' 'Johnson, Quinn' ... 'Smith, Torrey'\n",
      " 'Anderson, Bill' 'Reader, Jamie']\n"
     ]
    }
   ],
   "source": [
    "import matplotlib.pyplot as plt\n",
    "import pandas as pd\n",
    "Receiving = pd.read_excel('assets/Receiving.xlsx', sheet_name = 'Receiving_Data')\n",
    "Receivers = (Receiving['Name'].unique())\n",
    "\n",
    "print(Receivers)"
   ]
  },
  {
   "cell_type": "code",
   "execution_count": 3,
   "id": "9e987495",
   "metadata": {},
   "outputs": [
    {
     "name": "stdout",
     "output_type": "stream",
     "text": [
      "               Player Id         Name Position  Year                 Team  \\\n",
      "16043  jerryrice/2502642  Rice, Jerry      NaN  2004     Seattle Seahawks   \n",
      "16044  jerryrice/2502642  Rice, Jerry      NaN  2004      Oakland Raiders   \n",
      "16045  jerryrice/2502642  Rice, Jerry      NaN  2003      Oakland Raiders   \n",
      "16046  jerryrice/2502642  Rice, Jerry      NaN  2002      Oakland Raiders   \n",
      "16047  jerryrice/2502642  Rice, Jerry      NaN  2001      Oakland Raiders   \n",
      "16048  jerryrice/2502642  Rice, Jerry      NaN  2000  San Francisco 49ers   \n",
      "16049  jerryrice/2502642  Rice, Jerry      NaN  1999  San Francisco 49ers   \n",
      "16050  jerryrice/2502642  Rice, Jerry      NaN  1998  San Francisco 49ers   \n",
      "16051  jerryrice/2502642  Rice, Jerry      NaN  1997  San Francisco 49ers   \n",
      "16052  jerryrice/2502642  Rice, Jerry      NaN  1996  San Francisco 49ers   \n",
      "16053  jerryrice/2502642  Rice, Jerry      NaN  1995  San Francisco 49ers   \n",
      "16054  jerryrice/2502642  Rice, Jerry      NaN  1994  San Francisco 49ers   \n",
      "16055  jerryrice/2502642  Rice, Jerry      NaN  1993  San Francisco 49ers   \n",
      "16056  jerryrice/2502642  Rice, Jerry      NaN  1992  San Francisco 49ers   \n",
      "16057  jerryrice/2502642  Rice, Jerry      NaN  1991  San Francisco 49ers   \n",
      "16058  jerryrice/2502642  Rice, Jerry      NaN  1990  San Francisco 49ers   \n",
      "16059  jerryrice/2502642  Rice, Jerry      NaN  1989  San Francisco 49ers   \n",
      "16060  jerryrice/2502642  Rice, Jerry      NaN  1988  San Francisco 49ers   \n",
      "16061  jerryrice/2502642  Rice, Jerry      NaN  1987  San Francisco 49ers   \n",
      "16062  jerryrice/2502642  Rice, Jerry      NaN  1986  San Francisco 49ers   \n",
      "16063  jerryrice/2502642  Rice, Jerry      NaN  1985  San Francisco 49ers   \n",
      "\n",
      "       Games Played  Receptions  Receiving Yards  Yards Per Reception  \\\n",
      "16043            11          25              362                 14.5   \n",
      "16044             6           5               67                 13.4   \n",
      "16045            16          63              869                 13.8   \n",
      "16046            16          92             1211                 13.2   \n",
      "16047            16          83             1139                 13.7   \n",
      "16048            16          75              805                 10.7   \n",
      "16049            16          67              830                 12.4   \n",
      "16050            16          82             1157                 14.1   \n",
      "16051             2           7               78                 11.1   \n",
      "16052            16         108             1254                 11.6   \n",
      "16053            16         122             1848                 15.1   \n",
      "16054            16         112             1499                 13.4   \n",
      "16055            16          98             1503                 15.3   \n",
      "16056            16          84             1201                 14.3   \n",
      "16057            16          80             1206                 15.1   \n",
      "16058            16         100             1502                 15.0   \n",
      "16059            16          82             1483                 18.1   \n",
      "16060            16          64             1306                 20.4   \n",
      "16061            12          65             1078                 16.6   \n",
      "16062            16          86             1570                 18.3   \n",
      "16063            16          49              927                 18.9   \n",
      "\n",
      "       Yards Per Game Longest Reception  Receiving TDs  \\\n",
      "16043            32.9                56              3   \n",
      "16044            11.2                18              0   \n",
      "16045            54.3               47T              2   \n",
      "16046            75.7                75              7   \n",
      "16047            71.2               40T              9   \n",
      "16048            50.3               68T              7   \n",
      "16049            51.9                62              5   \n",
      "16050            72.3               75T              9   \n",
      "16051            39.0                16              1   \n",
      "16052            78.4                39              8   \n",
      "16053           115.5               81T             15   \n",
      "16054            93.7               69T             13   \n",
      "16055            93.9               80T             15   \n",
      "16056            75.1               80T             10   \n",
      "16057            75.4               73T             14   \n",
      "16058            93.9               64T             13   \n",
      "16059            92.7               68T             17   \n",
      "16060            81.6               96T              9   \n",
      "16061            89.8               57T             22   \n",
      "16062            98.1               66T             15   \n",
      "16063            57.9               66T              3   \n",
      "\n",
      "       Receptions Longer than 20 Yards  Receptions Longer than 40 Yards  \\\n",
      "16043                                5                                1   \n",
      "16044                                0                                0   \n",
      "16045                               13                                1   \n",
      "16046                               12                                3   \n",
      "16047                               18                                2   \n",
      "16048                                8                                1   \n",
      "16049                                7                                4   \n",
      "16050                               13                                4   \n",
      "16051                                0                                0   \n",
      "16052                               11                                0   \n",
      "16053                               25                               10   \n",
      "16054                               21                                3   \n",
      "16055                               24                                6   \n",
      "16056                               20                                3   \n",
      "16057                               14                                7   \n",
      "16058                                0                                0   \n",
      "16059                                0                                0   \n",
      "16060                                0                                0   \n",
      "16061                                0                                0   \n",
      "16062                                0                                0   \n",
      "16063                                0                                0   \n",
      "\n",
      "       First Down Receptions  Fumbles  \n",
      "16043                     17        0  \n",
      "16044                      4        0  \n",
      "16045                     44        2  \n",
      "16046                     59        1  \n",
      "16047                     62        1  \n",
      "16048                     48        2  \n",
      "16049                     41        0  \n",
      "16050                     55        2  \n",
      "16051                      4        0  \n",
      "16052                     72        0  \n",
      "16053                     75        3  \n",
      "16054                     77        1  \n",
      "16055                     72        3  \n",
      "16056                     58        1  \n",
      "16057                     54        0  \n",
      "16058                      0        0  \n",
      "16059                      0        0  \n",
      "16060                      0        0  \n",
      "16061                      0        0  \n",
      "16062                      0        0  \n",
      "16063                      0        0  \n"
     ]
    }
   ],
   "source": [
    "Receiver = Receiving[Receiving['Name'].str.contains('Rice, Jerry')]\n",
    "\n",
    "print(Receiver)"
   ]
  },
  {
   "cell_type": "code",
   "execution_count": 4,
   "id": "cd992015",
   "metadata": {},
   "outputs": [
    {
     "data": {
      "text/plain": [
       "pandas.core.frame.DataFrame"
      ]
     },
     "execution_count": 4,
     "metadata": {},
     "output_type": "execute_result"
    }
   ],
   "source": [
    "type(Receiver)"
   ]
  },
  {
   "cell_type": "code",
   "execution_count": 5,
   "id": "492d7130",
   "metadata": {},
   "outputs": [
    {
     "data": {
      "text/plain": [
       "Player Id                           object\n",
       "Name                                object\n",
       "Position                            object\n",
       "Year                                 int64\n",
       "Team                                object\n",
       "Games Played                         int64\n",
       "Receptions                           int64\n",
       "Receiving Yards                      int64\n",
       "Yards Per Reception                float64\n",
       "Yards Per Game                     float64\n",
       "Longest Reception                   object\n",
       "Receiving TDs                        int64\n",
       "Receptions Longer than 20 Yards      int64\n",
       "Receptions Longer than 40 Yards      int64\n",
       "First Down Receptions                int64\n",
       "Fumbles                              int64\n",
       "dtype: object"
      ]
     },
     "execution_count": 5,
     "metadata": {},
     "output_type": "execute_result"
    }
   ],
   "source": [
    "Receiver.dtypes"
   ]
  },
  {
   "cell_type": "code",
   "execution_count": 6,
   "id": "e2df3f3e",
   "metadata": {},
   "outputs": [],
   "source": [
    "Played = Receiver['Games Played']\n",
    "Over40 = Receiver['Receptions Longer than 40 Yards']\n",
    "Year = Receiver['Year']\n",
    "First = Receiver['First Down Receptions']\n",
    "YardsYear = Receiver['Receiving Yards']\n",
    "GamesPlayed = Receiver['Games Played']\n",
    "Rec = Receiver['Receptions']"
   ]
  },
  {
   "cell_type": "code",
   "execution_count": 7,
   "id": "82b9263a",
   "metadata": {},
   "outputs": [
    {
     "data": {
      "text/plain": [
       "pandas.core.series.Series"
      ]
     },
     "execution_count": 7,
     "metadata": {},
     "output_type": "execute_result"
    }
   ],
   "source": [
    "type(Rec)"
   ]
  },
  {
   "cell_type": "code",
   "execution_count": 8,
   "id": "99ad54db",
   "metadata": {},
   "outputs": [
    {
     "data": {
      "text/plain": [
       "[<matplotlib.lines.Line2D at 0x1e3c484ad90>]"
      ]
     },
     "execution_count": 8,
     "metadata": {},
     "output_type": "execute_result"
    },
    {
     "data": {
      "image/png": "[encoded data removed]",
      "text/plain": [
       "<Figure size 432x288 with 1 Axes>"
      ]
     },
     "metadata": {
      "needs_background": "light"
     },
     "output_type": "display_data"
    }
   ],
   "source": [
    "plt.plot(Rec, Over40, 'o')"
   ]
  },
  {
   "cell_type": "code",
   "execution_count": 9,
   "id": "7089fff8",
   "metadata": {},
   "outputs": [
    {
     "data": {
      "image/png": "[encoded data removed]",
      "text/plain": [
       "<Figure size 864x432 with 1 Axes>"
      ]
     },
     "metadata": {
      "needs_background": "light"
     },
     "output_type": "display_data"
    }
   ],
   "source": [
    "plt.figure(figsize = (12, 6))\n",
    "plt.hist(Receiving['First Down Receptions'], bins = 9, rwidth = 0.5)\n",
    "plt.xlabel('First Downs')\n",
    "plt.ylabel('Frequency')\n",
    "plt.show()"
   ]
  },
  {
   "cell_type": "code",
   "execution_count": 10,
   "id": "67a3f776",
   "metadata": {},
   "outputs": [
    {
     "data": {
      "image/png": "[encoded data removed]",
      "text/plain": [
       "<Figure size 864x432 with 1 Axes>"
      ]
     },
     "metadata": {
      "needs_background": "light"
     },
     "output_type": "display_data"
    }
   ],
   "source": [
    "plt.figure(figsize = (12, 6))\n",
    "plt.hist(Receiving['Fumbles'], bins = 8, rwidth = 0.2)\n",
    "plt.xlabel('Lost Balls')\n",
    "plt.ylabel('Frequency')\n",
    "plt.show()"
   ]
  }
 ],
 "metadata": {
  "kernelspec": {
   "display_name": "Python 3 (ipykernel)",
   "language": "python",
   "name": "python3"
  },
  "language_info": {
   "codemirror_mode": {
    "name": "ipython",
    "version": 3
   },
   "file_extension": ".py",
   "mimetype": "text/x-python",
   "name": "python",
   "nbconvert_exporter": "python",
   "pygments_lexer": "ipython3",
   "version": "3.9.12"
  }
 },
 "nbformat": 4,
 "nbformat_minor": 5
}
