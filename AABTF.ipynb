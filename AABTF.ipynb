{
 "cells": [
  {
   "cell_type": "code",
   "execution_count": 1,
   "metadata": {},
   "outputs": [],
   "source": [
    "import glob\n",
    "import pandas as pd\n",
    "import os\n",
    "import csv\n",
    "import gc\n",
    "import sys\n",
    "import signal"
   ]
  },
  {
   "cell_type": "code",
   "execution_count": 2,
   "metadata": {},
   "outputs": [
    {
     "name": "stdout",
     "output_type": "stream",
     "text": [
      " [1] Basic_Stats\n",
      " [2] Career_Stats_Defensive\n",
      " [3] Career_Stats_Field_Goal_Kickers\n",
      " [4] Career_Stats_Fumbles\n",
      " [5] Career_Stats_Kickoff\n",
      " [6] Career_Stats_Kick_Return\n",
      " [7] Career_Stats_Offensive_Line\n",
      " [8] Career_Stats_Passing\n",
      " [9] Career_Stats_Punting\n",
      "[10] Career_Stats_Punt_Return\n",
      "[11] Career_Stats_Receiving\n",
      "[12] Career_Stats_Rushing\n",
      "[13] Game_Logs_Defensive_Lineman\n",
      "[14] Game_Logs_Kickers\n",
      "[15] Game_Logs_Offensive_Line\n",
      "[16] Game_Logs_Punters\n",
      "[17] Game_Logs_Quarterback\n",
      "[18] Game_Logs_Runningback\n",
      "[19] Game_Logs_Wide_Receiver_and_Tight_End\n",
      "assets/Career_Stats_Receiving.csv\n"
     ]
    }
   ],
   "source": [
    "sel_dict = {}\n",
    "f = os.listdir('assets/')\n",
    "for i in f:\n",
    "    if i.endswith('.csv'):\n",
    "        sel_dict[i[:-4]] = 'assets/' + i\n",
    "menu_cnt = 0\n",
    "menu_data = []\n",
    "for item in sel_dict:\n",
    "    menu_cnt += 1\n",
    "    menu_data.append(item)\n",
    "    print('{:>4}'.format('[' + str(menu_cnt) + ']') + ' ' + item)\n",
    "option = input('Select a Stat: ')\n",
    "try:\n",
    "    option_buffer = int(option)\n",
    "    if option_buffer <= menu_cnt:\n",
    "        Choice = sel_dict[menu_data[option_buffer - 1]]\n",
    "        #print(sel_dict[menu_data[option_buffer - 1]])\n",
    "except ValueError as e:\n",
    "    print(e)\n",
    "\n",
    "Choice = sel_dict[menu_data[option_buffer - 1]]\n",
    "\n",
    "print(Choice)\n",
    "\n",
    "# print(files1)"
   ]
  },
  {
   "cell_type": "code",
   "execution_count": 16,
   "metadata": {},
   "outputs": [],
   "source": [
    "def import_csv():\n",
    "    with open(r'/assets/Career_Stats_Receiving.csv', 'r') as f:\n",
    "        reader = csv.reader(f, delimiter=\",\", quotechar='\"')\n",
    "        ret = [row for row in reader]\n",
    "\n",
    "    header = {}\n",
    "    col_cnt = 0\n",
    "    for col in ret[0]:\n",
    "        header[col] = col_cnt\n",
    "        col_cnt += 1\n",
    "    os.system('clear')\n",
    "\n",
    "    good_player = []\n",
    "    good_player_list = {}\n",
    "    line_cnt = 1\n",
    "    for line in ret:\n",
    "        try:\n",
    "            int_buffer = int(line[header['Receiving Yards']])\n",
    "        except ValueError:\n",
    "            int_buffer = 0\n",
    "        yrs_active = 0\n",
    "        for item in ret:\n",
    "            if item[header['Name']] == line[header['Name']]:\n",
    "                yrs_active += 1\n",
    "        if int_buffer >= 750 and yrs_active > 8:\n",
    "            good_player.append(line)\n",
    "            if line[header['Name']] not in good_player_list:\n",
    "                good_player_list[line[header['Name']]] = [str(line_cnt)]\n",
    "                line_cnt += 1\n",
    "\n",
    "\n",
    "    for key, value in good_player_list.iteritems():\n",
    "        print (key, value)\n",
    "\n",
    "\n",
    "    while True:\n",
    "        option = input('Enter Selection: ')\n",
    "        if option in header:\n",
    "            for line in ret:\n",
    "                print (line[header['Name']])\n",
    "                print (line[header['Year']])\n",
    "                print (line[header[option]])\n",
    "                print\n",
    "            repeat = input('Enter another? (y/n)')\n",
    "            if repeat.lower() == 'y':\n",
    "                os.system('clear')\n",
    "            else:\n",
    "                break\n",
    "        else:\n",
    "            os.system('clear')\n",
    "            print ('Not a valid choice.')\n",
    "\n",
    "def main():\n",
    "    import_csv()\n",
    "\n",
    "#main()\n",
    "\n",
    "\n",
    "\n",
    "\n",
    "\n",
    "\n",
    "\n",
    "\n",
    "#Receiving = pd.read_csv(Choice)\n",
    "#Receiving = Receiving.to_excel(r'assets/Receiving2.xlsx')\n",
    "#Receiving = pd.read_excel('assets/Receiving.xlsx', sheet_name = 'Receiving_Data')\n",
    "#Receiving2 = Receiving[Receiving['Receiving Yards'] > 750]\n",
    "#Receiving2 = Receiving[Receiving.groupby('Name')['Name'].transform('size')>8]\n",
    "#Receivers = [Receiving2['Name'].unique().tolist()]\n",
    "\n",
    "#print(Receivers)"
   ]
  },
  {
   "cell_type": "code",
   "execution_count": null,
   "metadata": {},
   "outputs": [],
   "source": [
    "\n"
   ]
  }
 ],
 "metadata": {
  "kernelspec": {
   "display_name": "Python 3.10.6 64-bit",
   "language": "python",
   "name": "python3"
  },
  "language_info": {
   "codemirror_mode": {
    "name": "ipython",
    "version": 3
   },
   "file_extension": ".py",
   "mimetype": "text/x-python",
   "name": "python",
   "nbconvert_exporter": "python",
   "pygments_lexer": "ipython3",
   "version": "3.10.6"
  },
  "orig_nbformat": 4,
  "vscode": {
   "interpreter": {
    "hash": "4fc54bad030576d7b2d4697daaf9c468b8b8d0c7cfc59f4e3e8789b97aff871e"
   }
  }
 },
 "nbformat": 4,
 "nbformat_minor": 2
}
